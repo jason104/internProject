{
 "cells": [
  {
   "cell_type": "code",
   "execution_count": null,
   "metadata": {},
   "outputs": [],
   "source": [
    "from doc2vec import read_fasta_to_kmers, encode_and_labels\n",
    "import joblib\n",
    "from model import train_doc2vec_model\n",
    "from model_tools import learning_curve, evalution_metrics\n",
    "import numpy as np\n",
    "import pandas as pd\n",
    "from sklearn.model_selection import train_test_split\n",
    "from tensorflow.keras.models import load_model"
   ]
  },
  {
   "cell_type": "code",
   "execution_count": null,
   "metadata": {},
   "outputs": [],
   "source": [
    "import os\n",
    "os.environ['TF_FORCE_GPU_ALLOW_GROWTH'] = 'true'\n",
    "os.environ['CUDA_VISIBLE_DEVICES'] = '1'"
   ]
  },
  {
   "cell_type": "code",
   "execution_count": null,
   "metadata": {},
   "outputs": [],
   "source": [
    "# load data\n",
    "train_pos = read_fasta_to_kmers('../data/pos_train_ds2.fasta')\n",
    "train_neg = read_fasta_to_kmers('../data/neg_train_ds2.fasta')\n",
    "test_pos = read_fasta_to_kmers('../data/pos_test_ds2.fasta')\n",
    "test_neg = read_fasta_to_kmers('../data/neg_test_ds2.fasta')"
   ]
  },
  {
   "cell_type": "code",
   "execution_count": null,
   "metadata": {},
   "outputs": [],
   "source": [
    "# encoding through Doc2Vec pretrained \n",
    "doc2vec_model = '../Doc2Vec_model/AFP_doc2vec_DS2.model'\n",
    "train_data, train_labels = encode_and_labels(train_pos, train_neg, doc2vec_model)\n",
    "test_data, test_labels = encode_and_labels(test_pos, test_neg, doc2vec_model)"
   ]
  },
  {
   "cell_type": "markdown",
   "metadata": {},
   "source": [
    "## Random forest"
   ]
  },
  {
   "cell_type": "code",
   "execution_count": null,
   "metadata": {},
   "outputs": [],
   "source": [
    "from sklearn import ensemble\n",
    "forest = ensemble.RandomForestClassifier(n_estimators = 100)\n",
    "forest_fit = forest.fit(train_data, train_labels)\n",
    "joblib.dump(forest, '../Doc2Vec_model/forest_doc2vec_DS2.pkl')"
   ]
  },
  {
   "cell_type": "code",
   "execution_count": null,
   "metadata": {
    "scrolled": true
   },
   "outputs": [],
   "source": [
    "forest = joblib.load('../Doc2Vec_model/forest_doc2vec_DS2.pkl')\n",
    "labels_score = forest.predict(test_data)\n",
    "evalution_metrics(test_labels, labels_score)"
   ]
  },
  {
   "cell_type": "markdown",
   "metadata": {},
   "source": [
    "## Support vector machine"
   ]
  },
  {
   "cell_type": "code",
   "execution_count": null,
   "metadata": {},
   "outputs": [],
   "source": [
    "from sklearn import svm\n",
    "svc = svm.SVC()\n",
    "svc_fit = svc.fit(train_data, train_labels)\n",
    "joblib.dump(svc, '../Doc2Vec_model/svm_doc2vec_DS2.pkl')"
   ]
  },
  {
   "cell_type": "code",
   "execution_count": null,
   "metadata": {},
   "outputs": [],
   "source": [
    "svc = joblib.load('../Doc2Vec_model/svm_doc2vec_DS2.pkl')\n",
    "labels_score = svc.predict(test_data)\n",
    "evalution_metrics(test_labels, labels_score)"
   ]
  },
  {
   "cell_type": "markdown",
   "metadata": {},
   "source": [
    "## CNN"
   ]
  },
  {
   "cell_type": "code",
   "execution_count": null,
   "metadata": {},
   "outputs": [],
   "source": [
    "train_data=train_data.reshape((train_data.shape[0],train_data.shape[1],1))\n",
    "test_data=test_data.reshape((test_data.shape[0],test_data.shape[1],1))"
   ]
  },
  {
   "cell_type": "code",
   "execution_count": null,
   "metadata": {},
   "outputs": [],
   "source": [
    "train_data_, test_data_, train_labels_, test_labels_ = train_test_split(train_data, train_labels, test_size= 0.1, random_state = 10, stratify = train_labels)\n"
   ]
  },
  {
   "cell_type": "code",
   "execution_count": null,
   "metadata": {},
   "outputs": [],
   "source": [
    "t_m = train_doc2vec_model(train_data_, train_labels_, test_data_, test_labels_, 'doc2vec_DS2', path = '../Doc2Vec_model')"
   ]
  },
  {
   "cell_type": "code",
   "execution_count": null,
   "metadata": {},
   "outputs": [],
   "source": [
    "learning_curve(t_m.history)"
   ]
  },
  {
   "cell_type": "code",
   "execution_count": null,
   "metadata": {},
   "outputs": [],
   "source": [
    "model = load_model('../Doc2Vec_model/doc2vec_DS2_best_weights.h5')\n",
    "labels_score = model.predict(test_data)\n",
    "evalution_metrics(test_labels, labels_score)"
   ]
  },
  {
   "cell_type": "code",
   "execution_count": null,
   "metadata": {},
   "outputs": [],
   "source": []
  }
 ],
 "metadata": {
  "kernelspec": {
   "display_name": "Python 3",
   "language": "python",
   "name": "python3"
  },
  "language_info": {
   "codemirror_mode": {
    "name": "ipython",
    "version": 3
   },
   "file_extension": ".py",
   "mimetype": "text/x-python",
   "name": "python",
   "nbconvert_exporter": "python",
   "pygments_lexer": "ipython3",
   "version": "3.8.10"
  }
 },
 "nbformat": 4,
 "nbformat_minor": 2
}
