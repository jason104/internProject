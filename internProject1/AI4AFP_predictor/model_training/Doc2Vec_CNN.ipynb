{
 "cells": [
  {
   "cell_type": "code",
   "execution_count": null,
   "metadata": {},
   "outputs": [],
   "source": [
    "from doc2vec import read_fasta_to_kmers, encode_and_labels\n",
    "from model import train_doc2vec_model\n",
    "from model_tools import learning_curve, evalution_metrics\n",
    "import numpy as np\n",
    "import pandas as pd\n",
    "from sklearn.model_selection import train_test_split\n",
    "from tensorflow.keras.models import load_model"
   ]
  },
  {
   "cell_type": "code",
   "execution_count": null,
   "metadata": {},
   "outputs": [],
   "source": [
    "import os\n",
    "os.environ['TF_FORCE_GPU_ALLOW_GROWTH'] = 'true'\n",
    "os.environ['CUDA_VISIBLE_DEVICES'] = '1'"
   ]
  },
  {
   "cell_type": "code",
   "execution_count": null,
   "metadata": {},
   "outputs": [],
   "source": [
    "# load data\n",
    "train_pos = read_fasta_to_kmers('../data/afp_pos_seq_len50train_2710.fasta')\n",
    "train_neg = read_fasta_to_kmers('../data/afp_neg_seq_len50train_2710.fasta')\n",
    "test_pos = read_fasta_to_kmers('../data/afp_pos_seq_len50independant_test_301.fasta')\n",
    "test_neg = read_fasta_to_kmers('../data/afp_neg_seq_len50independant_test_301.fasta')"
   ]
  },
  {
   "cell_type": "code",
   "execution_count": null,
   "metadata": {},
   "outputs": [],
   "source": [
    "# encoding through Doc2Vec pretrained \n",
    "doc2vec_model = '../Doc2Vec_model/AFP_doc2vec.model'\n",
    "train_data, train_labels = encode_and_labels(train_pos, train_neg, doc2vec_model)\n",
    "test_data, test_labels = encode_and_labels(test_pos, test_neg, doc2vec_model)"
   ]
  },
  {
   "cell_type": "code",
   "execution_count": null,
   "metadata": {},
   "outputs": [],
   "source": [
    "train_data=train_data.reshape((train_data.shape[0],train_data.shape[1],1))\n",
    "test_data=test_data.reshape((test_data.shape[0],test_data.shape[1],1))"
   ]
  },
  {
   "cell_type": "code",
   "execution_count": null,
   "metadata": {},
   "outputs": [],
   "source": [
    "train_data_, test_data_, train_labels_, test_labels_ = train_test_split(train_data, train_labels, test_size= 0.1, random_state = 10, stratify = train_labels)\n"
   ]
  },
  {
   "cell_type": "markdown",
   "metadata": {},
   "source": [
    "## CNN model training"
   ]
  },
  {
   "cell_type": "code",
   "execution_count": null,
   "metadata": {},
   "outputs": [],
   "source": [
    "t_m = train_doc2vec_model(train_data_, train_labels_, test_data_, test_labels_, 'doc2vec', path = '../Doc2Vec_model')"
   ]
  },
  {
   "cell_type": "code",
   "execution_count": null,
   "metadata": {
    "scrolled": true
   },
   "outputs": [],
   "source": [
    "learning_curve(t_m.history)"
   ]
  },
  {
   "cell_type": "code",
   "execution_count": null,
   "metadata": {
    "scrolled": false
   },
   "outputs": [],
   "source": [
    "model = load_model('../Doc2Vec_model/doc2vec_best_weights.h5')\n",
    "labels_score = model.predict(test_data)\n",
    "evalution_metrics(test_labels, labels_score)"
   ]
  },
  {
   "cell_type": "markdown",
   "metadata": {},
   "source": [
    "## 10-fold cross-validation"
   ]
  },
  {
   "cell_type": "code",
   "execution_count": null,
   "metadata": {},
   "outputs": [],
   "source": [
    "from sklearn.model_selection import KFold\n",
    "\n",
    "def fold_cv(train_data, labels, model_name=None, output_dir = '.'):\n",
    "    if not os.path.isdir(output_dir):\n",
    "            os.makedirs(output_dir)\n",
    "    kfold = KFold(n_splits=10, shuffle=True)\n",
    "    # K-fold Cross Validation model evaluation\n",
    "    df = pd.DataFrame(columns=['accuracy', 'precision', 'sensitivity', 'specificity', 'f1', 'mcc'])\n",
    "    fold_no = 1\n",
    "    for train, val in kfold.split(train_data, labels):\n",
    "        # Generate a print\n",
    "        print('------------------------------------------------------------------------')\n",
    "        print('Training for fold {fold_no} ...')\n",
    "        \n",
    "        train_doc2vec_model(train_data[train], labels[train], train_data[val], labels[val], model_name = 'kfold%s'%fold_no, path = output_dir)\n",
    "        model = load_model(os.path.join(output_dir, 'kfold%s_best_weights.h5'%fold_no))\n",
    "        \n",
    "        labels_score = model.predict(train_data[val])\n",
    "        metrics_dict = evalution_metrics(labels[val], labels_score, save=False)\n",
    "        print(metrics_dict)\n",
    "        df.loc[fold_no] = metrics_dict.values()\n",
    "        # Increase fold number\n",
    "        fold_no = fold_no + 1\n",
    "    df.loc['Mean'] = df.mean()\n",
    "    df.to_csv(os.path.join(output_dir,'%s_cv.csv'%model_name))\n",
    "    return(df)"
   ]
  },
  {
   "cell_type": "code",
   "execution_count": null,
   "metadata": {},
   "outputs": [],
   "source": [
    "fold_cv(train_data, train_labels, output_dir = '../Doc2Vec_model/10_fold')"
   ]
  },
  {
   "cell_type": "code",
   "execution_count": null,
   "metadata": {},
   "outputs": [],
   "source": []
  }
 ],
 "metadata": {
  "kernelspec": {
   "display_name": "Python 3",
   "language": "python",
   "name": "python3"
  },
  "language_info": {
   "codemirror_mode": {
    "name": "ipython",
    "version": 3
   },
   "file_extension": ".py",
   "mimetype": "text/x-python",
   "name": "python",
   "nbconvert_exporter": "python",
   "pygments_lexer": "ipython3",
   "version": "3.8.10"
  }
 },
 "nbformat": 4,
 "nbformat_minor": 2
}
