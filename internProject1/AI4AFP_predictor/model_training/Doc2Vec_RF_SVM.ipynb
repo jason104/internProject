{
 "cells": [
  {
   "cell_type": "code",
   "execution_count": null,
   "metadata": {},
   "outputs": [],
   "source": [
    "from doc2vec import read_fasta_to_kmers, encode_and_labels\n",
    "from model_tools import evalution_metrics\n",
    "import numpy as np\n",
    "import pandas as pd\n",
    "import joblib\n",
    "import os"
   ]
  },
  {
   "cell_type": "code",
   "execution_count": null,
   "metadata": {},
   "outputs": [],
   "source": [
    "# load data\n",
    "train_pos = read_fasta_to_kmers('../data/afp_pos_seq_len50train_2710.fasta')\n",
    "train_neg = read_fasta_to_kmers('../data/afp_neg_seq_len50train_2710.fasta')\n",
    "test_pos = read_fasta_to_kmers('../data/afp_pos_seq_len50independant_test_301.fasta')\n",
    "test_neg = read_fasta_to_kmers('../data/afp_neg_seq_len50independant_test_301.fasta')"
   ]
  },
  {
   "cell_type": "code",
   "execution_count": null,
   "metadata": {},
   "outputs": [],
   "source": [
    "# encoding through Doc2Vec pretrained \n",
    "doc2vec_model = '../Doc2Vec_model/AFP_doc2vec.model'\n",
    "train_data, train_labels = encode_and_labels(train_pos, train_neg, doc2vec_model)\n",
    "test_data, test_labels = encode_and_labels(test_pos, test_neg, doc2vec_model)"
   ]
  },
  {
   "cell_type": "markdown",
   "metadata": {},
   "source": [
    "## Random forest"
   ]
  },
  {
   "cell_type": "code",
   "execution_count": null,
   "metadata": {},
   "outputs": [],
   "source": [
    "from sklearn import ensemble\n",
    "forest = ensemble.RandomForestClassifier(n_estimators = 100)\n",
    "forest_fit = forest.fit(train_data, train_labels)\n",
    "joblib.dump(forest, '../Doc2Vec_model/forest_doc2vec.pkl')"
   ]
  },
  {
   "cell_type": "code",
   "execution_count": null,
   "metadata": {
    "scrolled": true
   },
   "outputs": [],
   "source": [
    "forest = joblib.load('../Doc2Vec_model/forest_doc2vec.pkl')\n",
    "labels_score = forest.predict(test_data)\n",
    "evalution_metrics(test_labels, labels_score)"
   ]
  },
  {
   "cell_type": "markdown",
   "metadata": {},
   "source": [
    "## Support vector machine"
   ]
  },
  {
   "cell_type": "code",
   "execution_count": null,
   "metadata": {},
   "outputs": [],
   "source": [
    "from sklearn import svm\n",
    "svc = svm.SVC()\n",
    "svc_fit = svc.fit(train_data, train_labels)\n",
    "joblib.dump(svc, '../Doc2Vec_model/svm_doc2vec.pkl')"
   ]
  },
  {
   "cell_type": "code",
   "execution_count": null,
   "metadata": {},
   "outputs": [],
   "source": [
    "svc = joblib.load('../Doc2Vec_model/svm_doc2vec.pkl')\n",
    "labels_score = svc.predict(test_data)\n",
    "evalution_metrics(test_labels, labels_score)"
   ]
  },
  {
   "cell_type": "markdown",
   "metadata": {},
   "source": [
    "## 10-fold cross-validation"
   ]
  },
  {
   "cell_type": "code",
   "execution_count": null,
   "metadata": {},
   "outputs": [],
   "source": [
    "from sklearn.model_selection import KFold\n",
    "\n",
    "def fold_cv(train_data, labels, mode='svm', output_dir = '.'):\n",
    "    if not os.path.isdir(output_dir):\n",
    "            os.makedirs(output_dir)\n",
    "    kfold = KFold(n_splits=10, shuffle=True)\n",
    "    # K-fold Cross Validation model evaluation\n",
    "    df = pd.DataFrame(columns=['accuracy', 'precision', 'sensitivity', 'specificity', 'f1', 'mcc'])\n",
    "    fold_no = 1\n",
    "    if mode not in ['rf','svm']:\n",
    "        raise Exception('mode should be svm or rf')\n",
    "    for train, val in kfold.split(train_data, labels):\n",
    "        # Generate a print\n",
    "        print('------------------------------------------------------------------------')\n",
    "        print(f'Training for fold {fold_no} ...')\n",
    "        \n",
    "        if mode == 'svm':\n",
    "            svc = svm.SVC()\n",
    "            svc_fit = svc.fit(train_data[train], labels[train])\n",
    "            labels_score = svc.predict(train_data[val])\n",
    "            joblib.dump(svc, os.path.join(output_dir, 'svm_%s.pkl'%fold_no))\n",
    "        \n",
    "        if mode == 'rf':\n",
    "            forest = ensemble.RandomForestClassifier(n_estimators = 100)\n",
    "            forest_fit = forest.fit(train_data[train], labels[train])\n",
    "            labels_score = forest.predict(train_data[val])\n",
    "            joblib.dump(forest, os.path.join(output_dir, 'forest_%s.pkl'%fold_no))\n",
    "        \n",
    "        metrics_dict = evalution_metrics(labels[val], labels_score, save=False)\n",
    "        print(metrics_dict)\n",
    "        df.loc[fold_no] = metrics_dict.values()\n",
    "        # Increase fold number\n",
    "        fold_no = fold_no + 1\n",
    "    df.loc['Mean'] = df.mean()\n",
    "    df.to_csv(os.path.join(output_dir,'%s_cv.csv'%mode))\n",
    "    return(df)"
   ]
  },
  {
   "cell_type": "code",
   "execution_count": null,
   "metadata": {},
   "outputs": [],
   "source": [
    "fold_cv(train_data, train_labels, mode='svm', output_dir = '../Doc2Vec_model/10_fold_svm')"
   ]
  },
  {
   "cell_type": "code",
   "execution_count": null,
   "metadata": {},
   "outputs": [],
   "source": [
    "fold_cv(train_data, train_labels, mode='rf', output_dir = '../Doc2Vec_model/10_fold_rf')"
   ]
  },
  {
   "cell_type": "code",
   "execution_count": null,
   "metadata": {},
   "outputs": [],
   "source": []
  }
 ],
 "metadata": {
  "kernelspec": {
   "display_name": "Python 3",
   "language": "python",
   "name": "python3"
  },
  "language_info": {
   "codemirror_mode": {
    "name": "ipython",
    "version": 3
   },
   "file_extension": ".py",
   "mimetype": "text/x-python",
   "name": "python",
   "nbconvert_exporter": "python",
   "pygments_lexer": "ipython3",
   "version": "3.8.10"
  }
 },
 "nbformat": 4,
 "nbformat_minor": 2
}
