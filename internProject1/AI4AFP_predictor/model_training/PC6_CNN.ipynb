{
 "cells": [
  {
   "cell_type": "code",
   "execution_count": null,
   "metadata": {},
   "outputs": [],
   "source": [
    "from PC6_encoding import get_PC6_features_labels\n",
    "from model import train_pc6_model\n",
    "from model_tools import learning_curve, evalution_metrics\n",
    "import numpy as np\n",
    "import pandas as pd\n",
    "from sklearn.model_selection import train_test_split\n",
    "from tensorflow.keras.models import load_model"
   ]
  },
  {
   "cell_type": "code",
   "execution_count": null,
   "metadata": {},
   "outputs": [],
   "source": [
    "import os\n",
    "os.environ['TF_FORCE_GPU_ALLOW_GROWTH'] = 'true'\n",
    "os.environ['CUDA_VISIBLE_DEVICES'] = '1'"
   ]
  },
  {
   "cell_type": "code",
   "execution_count": null,
   "metadata": {},
   "outputs": [],
   "source": [
    "# load train data\n",
    "train_data, train_labels = get_PC6_features_labels('../data/afp_pos_seq_len50train_2710.fasta',\n",
    "                                                      '../data/afp_neg_seq_len50train_2710.fasta',length=50)\n",
    "# load test data\n",
    "test_data, test_labels = get_PC6_features_labels('../data/afp_pos_seq_len50independant_test_301.fasta',\n",
    "                                                      '../data/afp_neg_seq_len50independant_test_301.fasta',length=50)"
   ]
  },
  {
   "cell_type": "code",
   "execution_count": null,
   "metadata": {},
   "outputs": [],
   "source": [
    "train_data_, test_data_, train_labels_, test_labels_ = train_test_split(train_data, train_labels, test_size= 0.1, random_state = 1, stratify = train_labels)\n"
   ]
  },
  {
   "cell_type": "markdown",
   "metadata": {},
   "source": [
    "## CNN model training"
   ]
  },
  {
   "cell_type": "code",
   "execution_count": null,
   "metadata": {},
   "outputs": [],
   "source": [
    "t_m = train_pc6_model(train_data_, train_labels_, test_data_, test_labels_, 'pc6', path = '../PC6_model')"
   ]
  },
  {
   "cell_type": "code",
   "execution_count": null,
   "metadata": {
    "scrolled": true
   },
   "outputs": [],
   "source": [
    "learning_curve(t_m.history)"
   ]
  },
  {
   "cell_type": "code",
   "execution_count": null,
   "metadata": {
    "scrolled": false
   },
   "outputs": [],
   "source": [
    "model = load_model('../PC6_model/pc6_final_weights.h5')\n",
    "labels_score = model.predict(test_data)\n",
    "evalution_metrics(test_labels, labels_score)"
   ]
  },
  {
   "cell_type": "markdown",
   "metadata": {},
   "source": [
    "## 10-fold cross-validation"
   ]
  },
  {
   "cell_type": "code",
   "execution_count": null,
   "metadata": {},
   "outputs": [],
   "source": [
    "from sklearn.model_selection import KFold\n",
    "\n",
    "def fold_cv(train_data, labels, model_name=None, output_dir = '.'):\n",
    "    if not os.path.isdir(output_dir):\n",
    "            os.makedirs(output_dir)\n",
    "    kfold = KFold(n_splits=10, shuffle=True)\n",
    "    # K-fold Cross Validation model evaluation\n",
    "    df = pd.DataFrame(columns=['accuracy', 'precision', 'sensitivity', 'specificity', 'f1', 'mcc'])\n",
    "    fold_no = 1\n",
    "    for train, val in kfold.split(train_data, labels):\n",
    "        # Generate a print\n",
    "        print('------------------------------------------------------------------------')\n",
    "        print('Training for fold {fold_no} ...')\n",
    "        \n",
    "        train_pc6_model(train_data[train], labels[train], train_data[val], labels[val], model_name = 'kfold%s'%fold_no, path = output_dir)\n",
    "        model = load_model(os.path.join(output_dir, 'kfold%s_best_weights.h5'%fold_no))\n",
    "        \n",
    "        labels_score = model.predict(train_data[val])\n",
    "        metrics_dict = evalution_metrics(labels[val], labels_score, save=False)\n",
    "        print(metrics_dict)\n",
    "        df.loc[fold_no] = metrics_dict.values()\n",
    "        # Increase fold number\n",
    "        fold_no = fold_no + 1\n",
    "    df.loc['Mean'] = df.mean()\n",
    "    df.to_csv(os.path.join(output_dir,'%s_cv.csv'%model_name))\n",
    "    return(df)"
   ]
  },
  {
   "cell_type": "code",
   "execution_count": null,
   "metadata": {},
   "outputs": [],
   "source": [
    "fold_cv(train_data, train_labels, output_dir = '../PC6_model/10_fold')"
   ]
  },
  {
   "cell_type": "code",
   "execution_count": null,
   "metadata": {},
   "outputs": [],
   "source": []
  }
 ],
 "metadata": {
  "kernelspec": {
   "display_name": "Python 3",
   "language": "python",
   "name": "python3"
  },
  "language_info": {
   "codemirror_mode": {
    "name": "ipython",
    "version": 3
   },
   "file_extension": ".py",
   "mimetype": "text/x-python",
   "name": "python",
   "nbconvert_exporter": "python",
   "pygments_lexer": "ipython3",
   "version": "3.8.10"
  }
 },
 "nbformat": 4,
 "nbformat_minor": 2
}
