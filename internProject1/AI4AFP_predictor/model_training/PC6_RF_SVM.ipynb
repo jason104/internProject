{
 "cells": [
  {
   "cell_type": "code",
   "execution_count": null,
   "metadata": {},
   "outputs": [],
   "source": [
    "from PC6_encoding import get_PC6_features_labels\n",
    "from model_tools import evalution_metrics\n",
    "import numpy as np\n",
    "import pandas as pd\n",
    "import joblib\n",
    "import os"
   ]
  },
  {
   "cell_type": "code",
   "execution_count": null,
   "metadata": {},
   "outputs": [],
   "source": [
    "# load train data\n",
    "train_features, train_labels = get_PC6_features_labels('../data/afp_pos_seq_len50train_2710.fasta',\n",
    "                                                      '../data/afp_neg_seq_len50train_2710.fasta',length=50)\n",
    "# reshape\n",
    "train_data = train_features.reshape(train_features.shape[0],-1)"
   ]
  },
  {
   "cell_type": "code",
   "execution_count": null,
   "metadata": {},
   "outputs": [],
   "source": [
    "# load test data\n",
    "test_features, test_labels = get_PC6_features_labels('../data/afp_pos_seq_len50independant_test_301.fasta',\n",
    "                                                      '../data/afp_neg_seq_len50independant_test_301.fasta',length=50)\n",
    "# reshape\n",
    "test_data = test_features.reshape(test_features.shape[0],-1)"
   ]
  },
  {
   "cell_type": "markdown",
   "metadata": {},
   "source": [
    "## Random forest"
   ]
  },
  {
   "cell_type": "code",
   "execution_count": null,
   "metadata": {},
   "outputs": [],
   "source": [
    "from sklearn import ensemble\n",
    "forest = ensemble.RandomForestClassifier(n_estimators = 100)\n",
    "forest_fit = forest.fit(train_data, train_labels)\n",
    "joblib.dump(forest, '../PC6_model/forest_pc6.pkl')"
   ]
  },
  {
   "cell_type": "code",
   "execution_count": null,
   "metadata": {
    "scrolled": true
   },
   "outputs": [],
   "source": [
    "forest = joblib.load('../PC6_model/forest_pc6.pkl')\n",
    "labels_score = forest.predict(test_data)\n",
    "evalution_metrics(test_labels, labels_score)"
   ]
  },
  {
   "cell_type": "markdown",
   "metadata": {},
   "source": [
    "## Support vector machine"
   ]
  },
  {
   "cell_type": "code",
   "execution_count": null,
   "metadata": {},
   "outputs": [],
   "source": [
    "from sklearn import svm\n",
    "svc = svm.SVC()\n",
    "svc_fit = svc.fit(train_data, train_labels)\n",
    "joblib.dump(svc, '../PC6_model/svm_pc6.pkl')"
   ]
  },
  {
   "cell_type": "code",
   "execution_count": null,
   "metadata": {},
   "outputs": [],
   "source": [
    "svc = joblib.load('../PC6_model/svm_pc6.pkl')\n",
    "labels_score = svc.predict(test_data)\n",
    "evalution_metrics(test_labels, labels_score)"
   ]
  },
  {
   "cell_type": "markdown",
   "metadata": {},
   "source": [
    "## 10-fold cross-validation"
   ]
  },
  {
   "cell_type": "code",
   "execution_count": null,
   "metadata": {},
   "outputs": [],
   "source": [
    "from sklearn.model_selection import KFold\n",
    "\n",
    "def fold_cv(train_data, labels, mode='svm', output_dir = '.'):\n",
    "    if not os.path.isdir(output_dir):\n",
    "            os.makedirs(output_dir)\n",
    "    kfold = KFold(n_splits=10, shuffle=True)\n",
    "    # K-fold Cross Validation model evaluation\n",
    "    df = pd.DataFrame(columns=['accuracy', 'precision', 'sensitivity', 'specificity', 'f1', 'mcc'])\n",
    "    fold_no = 1\n",
    "    if mode not in ['rf','svm']:\n",
    "        raise Exception('mode should be svm or rf')\n",
    "    for train, val in kfold.split(train_data, labels):\n",
    "        # Generate a print\n",
    "        print('------------------------------------------------------------------------')\n",
    "        print(f'Training for fold {fold_no} ...')\n",
    "        \n",
    "        if mode == 'svm':\n",
    "            svc = svm.SVC()\n",
    "            svc_fit = svc.fit(train_data[train], labels[train])\n",
    "            labels_score = svc.predict(train_data[val])\n",
    "            joblib.dump(svc, os.path.join(output_dir, 'svm_%s.pkl'%fold_no))\n",
    "        \n",
    "        if mode == 'rf':\n",
    "            forest = ensemble.RandomForestClassifier(n_estimators = 100)\n",
    "            forest_fit = forest.fit(train_data[train], labels[train])\n",
    "            labels_score = forest.predict(train_data[val])\n",
    "            joblib.dump(forest, os.path.join(output_dir, 'forest_%s.pkl'%fold_no))\n",
    "        \n",
    "        metrics_dict = evalution_metrics(labels[val], labels_score, save=False)\n",
    "        print(metrics_dict)\n",
    "        df.loc[fold_no] = metrics_dict.values()\n",
    "        # Increase fold number\n",
    "        fold_no = fold_no + 1\n",
    "    df.loc['Mean'] = df.mean()\n",
    "    df.to_csv(os.path.join(output_dir,'%s_cv.csv'%mode))\n",
    "    return(df)"
   ]
  },
  {
   "cell_type": "code",
   "execution_count": null,
   "metadata": {},
   "outputs": [],
   "source": [
    "fold_cv(train_data, train_labels, mode='svm', output_dir = '../PC6_model/10_fold_svm')"
   ]
  },
  {
   "cell_type": "code",
   "execution_count": null,
   "metadata": {},
   "outputs": [],
   "source": [
    "fold_cv(train_data, train_labels, mode='rf', output_dir = '../PC6_model/10_fold_rf')"
   ]
  },
  {
   "cell_type": "code",
   "execution_count": null,
   "metadata": {},
   "outputs": [],
   "source": []
  }
 ],
 "metadata": {
  "kernelspec": {
   "display_name": "Python 3",
   "language": "python",
   "name": "python3"
  },
  "language_info": {
   "codemirror_mode": {
    "name": "ipython",
    "version": 3
   },
   "file_extension": ".py",
   "mimetype": "text/x-python",
   "name": "python",
   "nbconvert_exporter": "python",
   "pygments_lexer": "ipython3",
   "version": "3.8.10"
  }
 },
 "nbformat": 4,
 "nbformat_minor": 2
}
